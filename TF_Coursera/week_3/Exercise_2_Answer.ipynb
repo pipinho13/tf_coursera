{
  "nbformat": 4,
  "nbformat_minor": 0,
  "metadata": {
    "colab": {
      "name": "Exercise 2 - Answer.ipynb",
      "version": "0.3.2",
      "provenance": []
    },
    "kernelspec": {
      "name": "python3",
      "display_name": "Python 3"
    }
  },
  "cells": [
    {
      "metadata": {
        "colab_type": "code",
        "id": "22hBZbxx98IS",
        "colab": {
          "base_uri": "https://localhost:8080/",
          "height": 494
        },
        "outputId": "a79675ad-d20a-4ef4-d675-33a1d2e3c86d"
      },
      "cell_type": "code",
      "source": [
        "import tensorflow as tf\n",
        "\n",
        "class myCallback(tf.keras.callbacks.Callback):\n",
        "  def on_epoch_end(self, epoch, logs={}):\n",
        "    if(logs.get('acc')>0.998):\n",
        "      print(\"\\nReached 99.8% accuracy so cancelling training!\")\n",
        "      self.model.stop_training = True\n",
        "\n",
        "callbacks = myCallback()\n",
        "mnist = tf.keras.datasets.mnist\n",
        "(training_images, training_labels), (test_images, test_labels) = mnist.load_data()\n",
        "training_images=training_images.reshape(60000, 28, 28, 1)\n",
        "training_images=training_images / 255.0\n",
        "test_images = test_images.reshape(10000, 28, 28, 1)\n",
        "test_images=test_images/255.0\n",
        "model = tf.keras.models.Sequential([\n",
        "  tf.keras.layers.Conv2D(32, (3,3), activation='relu', input_shape=(28, 28, 1)),\n",
        "  tf.keras.layers.MaxPooling2D(2, 2),\n",
        "  tf.keras.layers.Flatten(),\n",
        "  tf.keras.layers.Dense(128, activation='relu'),\n",
        "  tf.keras.layers.Dense(10, activation='softmax')\n",
        "])\n",
        "model.compile(optimizer='adam', loss='sparse_categorical_crossentropy', metrics=['accuracy'])\n",
        "model.fit(training_images, training_labels, epochs=10, callbacks=[callbacks])\n"
      ],
      "execution_count": 1,
      "outputs": [
        {
          "output_type": "stream",
          "text": [
            "Downloading data from https://storage.googleapis.com/tensorflow/tf-keras-datasets/mnist.npz\n",
            "11493376/11490434 [==============================] - 0s 0us/step\n",
            "WARNING:tensorflow:From /usr/local/lib/python3.6/dist-packages/tensorflow/python/ops/resource_variable_ops.py:435: colocate_with (from tensorflow.python.framework.ops) is deprecated and will be removed in a future version.\n",
            "Instructions for updating:\n",
            "Colocations handled automatically by placer.\n",
            "Epoch 1/10\n",
            "60000/60000 [==============================] - 52s 873us/sample - loss: 0.1535 - acc: 0.9538\n",
            "Epoch 2/10\n",
            "60000/60000 [==============================] - 50s 837us/sample - loss: 0.0522 - acc: 0.9839\n",
            "Epoch 3/10\n",
            "60000/60000 [==============================] - 50s 836us/sample - loss: 0.0332 - acc: 0.9893\n",
            "Epoch 4/10\n",
            "60000/60000 [==============================] - 50s 833us/sample - loss: 0.0209 - acc: 0.9935\n",
            "Epoch 5/10\n",
            "60000/60000 [==============================] - 50s 837us/sample - loss: 0.0145 - acc: 0.9955\n",
            "Epoch 6/10\n",
            "60000/60000 [==============================] - 50s 835us/sample - loss: 0.0109 - acc: 0.9962\n",
            "Epoch 7/10\n",
            "60000/60000 [==============================] - 52s 864us/sample - loss: 0.0075 - acc: 0.9978\n",
            "Epoch 8/10\n",
            "60000/60000 [==============================] - 50s 840us/sample - loss: 0.0076 - acc: 0.9976\n",
            "Epoch 9/10\n",
            "59936/60000 [============================>.] - ETA: 0s - loss: 0.0045 - acc: 0.9986\n",
            "Reached 99.8% accuracy so cancelling training!\n",
            "60000/60000 [==============================] - 50s 837us/sample - loss: 0.0045 - acc: 0.9986\n"
          ],
          "name": "stdout"
        },
        {
          "output_type": "execute_result",
          "data": {
            "text/plain": [
              "<tensorflow.python.keras.callbacks.History at 0x7f5d4cfe7dd8>"
            ]
          },
          "metadata": {
            "tags": []
          },
          "execution_count": 1
        }
      ]
    },
    {
      "metadata": {
        "id": "Nrykbz3hwA27",
        "colab_type": "code",
        "colab": {}
      },
      "cell_type": "code",
      "source": [
        ""
      ],
      "execution_count": 0,
      "outputs": []
    }
  ]
}